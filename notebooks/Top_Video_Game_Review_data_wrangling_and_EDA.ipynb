{
 "cells": [
  {
   "cell_type": "markdown",
   "metadata": {},
   "source": [
    "# 2 Data Wrangling - for Top Video Game Review Analysis\n"
   ]
  },
  {
   "cell_type": "markdown",
   "metadata": {},
   "source": [
    "## Contents\n",
    "* 2 Data Wrangling - for Top Video Game Review Analysis\n",
    "  * 2.1 Imports\n",
    "  * 2.2 Load Video Game Review Dataset (vgr_data)\n",
    "  * 2.3 Exploring The Video Game Review Dataset (vgr_data)\n",
    "    * 2.3.1 Looking at Random game in video game review dataset\n",
    "    * 2.3.2 Number Of Missing Values By Column\n",
    "    * 2.3.3 Categorical Features of  Video Game Review Dataset\n",
    "      * 2.3.3.1 Unique platform features\n",
    "  * 2.4 Cleaning and Fixing VGR Dataset\n",
    "    * 2.4.1 Looking at missing values in 'summary' column\n",
    "  \n",
    "\n"
   ]
  },
  {
   "cell_type": "markdown",
   "metadata": {},
   "source": [
    "## Introduction<a id='2.2_Introduction'></a>"
   ]
  },
  {
   "cell_type": "markdown",
   "metadata": {},
   "source": [
    "[Link](https://www.kaggle.com/deepcontractor/top-video-games-19952021-metacritic) Game reviews are very personal to user experiences but what interests me is if there are any similarities between game summaries, and how well they perform based on user/metacritic reviews. We will also look into how many consules are in the dataset, are there any cult classics in the top video games, are there any genres of games, can we see any trends?\n",
    "\n",
    "So this project is also going to test if I can create a best-selling game, based on reviews/performances of best-selling games in the past.\n",
    "\n",
    "People who love video games and grew up with certain classics have probably played one of theses games at some point."
   ]
  },
  {
   "cell_type": "markdown",
   "metadata": {},
   "source": [
    "## 2.1 Imports"
   ]
  },
  {
   "cell_type": "code",
   "execution_count": 1,
   "metadata": {},
   "outputs": [],
   "source": [
    "import pandas as pd\n",
    "import matplotlib.pyplot as plt\n",
    "import seaborn as sns\n",
    "import os\n",
    "import numpy as np\n",
    "from pandas_profiling import ProfileReport #jeff suggestion\n",
    "from sklearn.preprocessing import LabelEncoder\n",
    "#from library.sb_utils import save_file"
   ]
  },
  {
   "cell_type": "markdown",
   "metadata": {},
   "source": [
    "There are some fundamental questions to resolve in this notebook before you move on.\n",
    "\n",
    "* Do you think you may have the data you need to tackle the desired question?\n",
    "    * Have you identified the required target value?\n",
    "    * Do you have potentially useful features?\n",
    "* Do you have any fundamental issues with the data?"
   ]
  },
  {
   "cell_type": "markdown",
   "metadata": {},
   "source": [
    "## 2.2 Load Video Game Review Dataset (vgr_data)"
   ]
  },
  {
   "cell_type": "code",
   "execution_count": 2,
   "metadata": {},
   "outputs": [],
   "source": [
    "# the supplied CSV data file is the raw_data directory\n",
    "vgr_data = pd.read_csv('../raw_data/all_games.csv', na_values=['tbd'])"
   ]
  },
  {
   "cell_type": "code",
   "execution_count": 3,
   "metadata": {},
   "outputs": [
    {
     "data": {
      "text/plain": [
       "(18800, 6)"
      ]
     },
     "execution_count": 3,
     "metadata": {},
     "output_type": "execute_result"
    }
   ],
   "source": [
    "#What is the shape of this dataset?\n",
    "vgr_data.shape"
   ]
  },
  {
   "cell_type": "markdown",
   "metadata": {},
   "source": [
    "We have 18,800 rows and 6 columns."
   ]
  },
  {
   "cell_type": "code",
   "execution_count": 4,
   "metadata": {},
   "outputs": [
    {
     "name": "stdout",
     "output_type": "stream",
     "text": [
      "<class 'pandas.core.frame.DataFrame'>\n",
      "RangeIndex: 18800 entries, 0 to 18799\n",
      "Data columns (total 6 columns):\n",
      " #   Column        Non-Null Count  Dtype  \n",
      "---  ------        --------------  -----  \n",
      " 0   name          18800 non-null  object \n",
      " 1   platform      18800 non-null  object \n",
      " 2   release_date  18800 non-null  object \n",
      " 3   summary       18686 non-null  object \n",
      " 4   meta_score    18800 non-null  int64  \n",
      " 5   user_review   17435 non-null  float64\n",
      "dtypes: float64(1), int64(1), object(4)\n",
      "memory usage: 881.4+ KB\n"
     ]
    }
   ],
   "source": [
    "#Call the info method to see a summary of the data\n",
    "vgr_data.info()"
   ]
  },
  {
   "cell_type": "markdown",
   "metadata": {},
   "source": [
    "`name` is the name of the video game.\n",
    "`platform` is which console the game is played on\n",
    "The other columns are when the game was released, their summary, and what score the website gave as a review, as well as the user review of that game."
   ]
  },
  {
   "cell_type": "markdown",
   "metadata": {},
   "source": [
    "I wonder if user_review and the professional reviews(meta_score)match up?"
   ]
  },
  {
   "cell_type": "code",
   "execution_count": 5,
   "metadata": {
    "scrolled": true
   },
   "outputs": [
    {
     "data": {
      "text/html": [
       "<div>\n",
       "<style scoped>\n",
       "    .dataframe tbody tr th:only-of-type {\n",
       "        vertical-align: middle;\n",
       "    }\n",
       "\n",
       "    .dataframe tbody tr th {\n",
       "        vertical-align: top;\n",
       "    }\n",
       "\n",
       "    .dataframe thead th {\n",
       "        text-align: right;\n",
       "    }\n",
       "</style>\n",
       "<table border=\"1\" class=\"dataframe\">\n",
       "  <thead>\n",
       "    <tr style=\"text-align: right;\">\n",
       "      <th></th>\n",
       "      <th>name</th>\n",
       "      <th>platform</th>\n",
       "      <th>release_date</th>\n",
       "      <th>summary</th>\n",
       "      <th>meta_score</th>\n",
       "      <th>user_review</th>\n",
       "    </tr>\n",
       "  </thead>\n",
       "  <tbody>\n",
       "    <tr>\n",
       "      <th>0</th>\n",
       "      <td>The Legend of Zelda: Ocarina of Time</td>\n",
       "      <td>Nintendo 64</td>\n",
       "      <td>November 23, 1998</td>\n",
       "      <td>As a young boy, Link is tricked by Ganondorf, ...</td>\n",
       "      <td>99</td>\n",
       "      <td>9.1</td>\n",
       "    </tr>\n",
       "    <tr>\n",
       "      <th>1</th>\n",
       "      <td>Tony Hawk's Pro Skater 2</td>\n",
       "      <td>PlayStation</td>\n",
       "      <td>September 20, 2000</td>\n",
       "      <td>As most major publishers' development efforts ...</td>\n",
       "      <td>98</td>\n",
       "      <td>7.4</td>\n",
       "    </tr>\n",
       "    <tr>\n",
       "      <th>2</th>\n",
       "      <td>Grand Theft Auto IV</td>\n",
       "      <td>PlayStation 3</td>\n",
       "      <td>April 29, 2008</td>\n",
       "      <td>[Metacritic's 2008 PS3 Game of the Year; Also ...</td>\n",
       "      <td>98</td>\n",
       "      <td>7.7</td>\n",
       "    </tr>\n",
       "    <tr>\n",
       "      <th>3</th>\n",
       "      <td>SoulCalibur</td>\n",
       "      <td>Dreamcast</td>\n",
       "      <td>September 8, 1999</td>\n",
       "      <td>This is a tale of souls and swords, transcendi...</td>\n",
       "      <td>98</td>\n",
       "      <td>8.4</td>\n",
       "    </tr>\n",
       "    <tr>\n",
       "      <th>4</th>\n",
       "      <td>Grand Theft Auto IV</td>\n",
       "      <td>Xbox 360</td>\n",
       "      <td>April 29, 2008</td>\n",
       "      <td>[Metacritic's 2008 Xbox 360 Game of the Year; ...</td>\n",
       "      <td>98</td>\n",
       "      <td>7.9</td>\n",
       "    </tr>\n",
       "  </tbody>\n",
       "</table>\n",
       "</div>"
      ],
      "text/plain": [
       "                                   name        platform        release_date  \\\n",
       "0  The Legend of Zelda: Ocarina of Time     Nintendo 64   November 23, 1998   \n",
       "1              Tony Hawk's Pro Skater 2     PlayStation  September 20, 2000   \n",
       "2                   Grand Theft Auto IV   PlayStation 3      April 29, 2008   \n",
       "3                           SoulCalibur       Dreamcast   September 8, 1999   \n",
       "4                   Grand Theft Auto IV        Xbox 360      April 29, 2008   \n",
       "\n",
       "                                             summary  meta_score  user_review  \n",
       "0  As a young boy, Link is tricked by Ganondorf, ...          99          9.1  \n",
       "1  As most major publishers' development efforts ...          98          7.4  \n",
       "2  [Metacritic's 2008 PS3 Game of the Year; Also ...          98          7.7  \n",
       "3  This is a tale of souls and swords, transcendi...          98          8.4  \n",
       "4  [Metacritic's 2008 Xbox 360 Game of the Year; ...          98          7.9  "
      ]
     },
     "execution_count": 5,
     "metadata": {},
     "output_type": "execute_result"
    }
   ],
   "source": [
    "vgr_data.head()"
   ]
  },
  {
   "cell_type": "markdown",
   "metadata": {},
   "source": [
    "We can see the full name of each game, and see that the meta-score is possible based on a score out of 100 points, where as the user_review is possible out of 10 points.\n",
    "\n",
    "We see that the release data is a date time object, and the summaries are pretty long 'str' objects. It will be interesting to see what are in some of these summaries."
   ]
  },
  {
   "cell_type": "markdown",
   "metadata": {},
   "source": [
    "## 2.3 Exploring The Video Game Review Dataset (vgr_data)"
   ]
  },
  {
   "cell_type": "markdown",
   "metadata": {},
   "source": [
    "### 2.3.1 Looking at Random game in video game review dataset"
   ]
  },
  {
   "cell_type": "code",
   "execution_count": 6,
   "metadata": {},
   "outputs": [
    {
     "data": {
      "text/plain": [
       "13658"
      ]
     },
     "execution_count": 6,
     "metadata": {},
     "output_type": "execute_result"
    }
   ],
   "source": [
    "#Since we know the shape is 18,800 entries with 6 columns, \n",
    "#lets pick a random number between 0 - 18,800\n",
    "import random\n",
    "x = random.randint(0, 18800)\n",
    "x"
   ]
  },
  {
   "cell_type": "code",
   "execution_count": 7,
   "metadata": {},
   "outputs": [
    {
     "data": {
      "text/plain": [
       "name                                               Dead or School\n",
       "platform                                                   Switch\n",
       "release_date                                       March 13, 2020\n",
       "summary         Underground dwelling girl Hisako is aiming for...\n",
       "meta_score                                                     65\n",
       "user_review                                                   7.3\n",
       "Name: 13658, dtype: object"
      ]
     },
     "execution_count": 7,
     "metadata": {},
     "output_type": "execute_result"
    }
   ],
   "source": [
    "#Lets look at just one game to see what it would look like.\n",
    "vgr_data.iloc[x]"
   ]
  },
  {
   "cell_type": "markdown",
   "metadata": {},
   "source": [
    "### 2.3.2 Number Of Missing Values By Column"
   ]
  },
  {
   "cell_type": "markdown",
   "metadata": {},
   "source": [
    "The video game review dataset doesn't appear to have any missing values, but lets look by counting the number of missing values in each column and sort them."
   ]
  },
  {
   "cell_type": "code",
   "execution_count": 8,
   "metadata": {},
   "outputs": [
    {
     "data": {
      "text/html": [
       "<div>\n",
       "<style scoped>\n",
       "    .dataframe tbody tr th:only-of-type {\n",
       "        vertical-align: middle;\n",
       "    }\n",
       "\n",
       "    .dataframe tbody tr th {\n",
       "        vertical-align: top;\n",
       "    }\n",
       "\n",
       "    .dataframe thead th {\n",
       "        text-align: right;\n",
       "    }\n",
       "</style>\n",
       "<table border=\"1\" class=\"dataframe\">\n",
       "  <thead>\n",
       "    <tr style=\"text-align: right;\">\n",
       "      <th></th>\n",
       "      <th>count</th>\n",
       "      <th>%</th>\n",
       "    </tr>\n",
       "  </thead>\n",
       "  <tbody>\n",
       "    <tr>\n",
       "      <th>name</th>\n",
       "      <td>0</td>\n",
       "      <td>0.000000</td>\n",
       "    </tr>\n",
       "    <tr>\n",
       "      <th>platform</th>\n",
       "      <td>0</td>\n",
       "      <td>0.000000</td>\n",
       "    </tr>\n",
       "    <tr>\n",
       "      <th>release_date</th>\n",
       "      <td>0</td>\n",
       "      <td>0.000000</td>\n",
       "    </tr>\n",
       "    <tr>\n",
       "      <th>meta_score</th>\n",
       "      <td>0</td>\n",
       "      <td>0.000000</td>\n",
       "    </tr>\n",
       "    <tr>\n",
       "      <th>summary</th>\n",
       "      <td>114</td>\n",
       "      <td>0.606383</td>\n",
       "    </tr>\n",
       "    <tr>\n",
       "      <th>user_review</th>\n",
       "      <td>1365</td>\n",
       "      <td>7.260638</td>\n",
       "    </tr>\n",
       "  </tbody>\n",
       "</table>\n",
       "</div>"
      ],
      "text/plain": [
       "              count         %\n",
       "name              0  0.000000\n",
       "platform          0  0.000000\n",
       "release_date      0  0.000000\n",
       "meta_score        0  0.000000\n",
       "summary         114  0.606383\n",
       "user_review    1365  7.260638"
      ]
     },
     "execution_count": 8,
     "metadata": {},
     "output_type": "execute_result"
    }
   ],
   "source": [
    "missing = pd.concat([vgr_data.isnull().sum(), 100 * vgr_data.isnull().mean()], axis=1)\n",
    "\n",
    "missing.columns=['count', '%']\n",
    "\n",
    "missing.sort_values(by= 'count')\n",
    "\n",
    "#another way vgr_data.isnull().sum()"
   ]
  },
  {
   "cell_type": "markdown",
   "metadata": {},
   "source": [
    "`summary` column has missing values, at 114/18800 or 0.6% a total of 114 rows have missing values.\n",
    "\n",
    "Having a video game summary is very important because it tells us what the object of the game is and gives us a general clue as to what type of genre it is. Since it is a categorical feature, I can't just find the average for a column that had numerical values.\n",
    "\n",
    "Can I find summaries for the missing summaries?\n",
    "\n",
    "and `user_review` column has missing values, at 1365/18800 or 7.3% a total of 1365 rows have missing values.\n",
    "This could be a significant downer on our values for that column.\n",
    "\n",
    "We might be able to find the relationship between the meta_score and the user reivew in order to insert values for the missing values in this column. \n",
    "OR we could get the average for the user_review column to insert values for missing values."
   ]
  },
  {
   "cell_type": "markdown",
   "metadata": {},
   "source": []
  },
  {
   "cell_type": "code",
   "execution_count": null,
   "metadata": {},
   "outputs": [],
   "source": []
  },
  {
   "cell_type": "markdown",
   "metadata": {},
   "source": [
    "### 2.3.3 Categorical Features of Video Game Review Dataset"
   ]
  },
  {
   "cell_type": "markdown",
   "metadata": {},
   "source": [
    "Now we inspect categorical features of the healthcare dataset, of which there are many: `name` , `platform`, `release_date` and `summary` . "
   ]
  },
  {
   "cell_type": "code",
   "execution_count": 9,
   "metadata": {},
   "outputs": [
    {
     "data": {
      "text/html": [
       "<div>\n",
       "<style scoped>\n",
       "    .dataframe tbody tr th:only-of-type {\n",
       "        vertical-align: middle;\n",
       "    }\n",
       "\n",
       "    .dataframe tbody tr th {\n",
       "        vertical-align: top;\n",
       "    }\n",
       "\n",
       "    .dataframe thead th {\n",
       "        text-align: right;\n",
       "    }\n",
       "</style>\n",
       "<table border=\"1\" class=\"dataframe\">\n",
       "  <thead>\n",
       "    <tr style=\"text-align: right;\">\n",
       "      <th></th>\n",
       "      <th>name</th>\n",
       "      <th>platform</th>\n",
       "      <th>release_date</th>\n",
       "      <th>summary</th>\n",
       "    </tr>\n",
       "  </thead>\n",
       "  <tbody>\n",
       "    <tr>\n",
       "      <th>0</th>\n",
       "      <td>The Legend of Zelda: Ocarina of Time</td>\n",
       "      <td>Nintendo 64</td>\n",
       "      <td>November 23, 1998</td>\n",
       "      <td>As a young boy, Link is tricked by Ganondorf, ...</td>\n",
       "    </tr>\n",
       "    <tr>\n",
       "      <th>1</th>\n",
       "      <td>Tony Hawk's Pro Skater 2</td>\n",
       "      <td>PlayStation</td>\n",
       "      <td>September 20, 2000</td>\n",
       "      <td>As most major publishers' development efforts ...</td>\n",
       "    </tr>\n",
       "    <tr>\n",
       "      <th>2</th>\n",
       "      <td>Grand Theft Auto IV</td>\n",
       "      <td>PlayStation 3</td>\n",
       "      <td>April 29, 2008</td>\n",
       "      <td>[Metacritic's 2008 PS3 Game of the Year; Also ...</td>\n",
       "    </tr>\n",
       "    <tr>\n",
       "      <th>3</th>\n",
       "      <td>SoulCalibur</td>\n",
       "      <td>Dreamcast</td>\n",
       "      <td>September 8, 1999</td>\n",
       "      <td>This is a tale of souls and swords, transcendi...</td>\n",
       "    </tr>\n",
       "    <tr>\n",
       "      <th>4</th>\n",
       "      <td>Grand Theft Auto IV</td>\n",
       "      <td>Xbox 360</td>\n",
       "      <td>April 29, 2008</td>\n",
       "      <td>[Metacritic's 2008 Xbox 360 Game of the Year; ...</td>\n",
       "    </tr>\n",
       "    <tr>\n",
       "      <th>...</th>\n",
       "      <td>...</td>\n",
       "      <td>...</td>\n",
       "      <td>...</td>\n",
       "      <td>...</td>\n",
       "    </tr>\n",
       "    <tr>\n",
       "      <th>18795</th>\n",
       "      <td>Fast &amp; Furious: Showdown</td>\n",
       "      <td>Xbox 360</td>\n",
       "      <td>May 21, 2013</td>\n",
       "      <td>Fast &amp; Furious: Showdown takes some of the fra...</td>\n",
       "    </tr>\n",
       "    <tr>\n",
       "      <th>18796</th>\n",
       "      <td>Drake of the 99 Dragons</td>\n",
       "      <td>Xbox</td>\n",
       "      <td>November 3, 2003</td>\n",
       "      <td>Drake is out for revenge in a supernatural Hon...</td>\n",
       "    </tr>\n",
       "    <tr>\n",
       "      <th>18797</th>\n",
       "      <td>Afro Samurai 2: Revenge of Kuma Volume One</td>\n",
       "      <td>PlayStation 4</td>\n",
       "      <td>September 22, 2015</td>\n",
       "      <td>Head out on a journey of redemption, driven by...</td>\n",
       "    </tr>\n",
       "    <tr>\n",
       "      <th>18798</th>\n",
       "      <td>Infestation: Survivor Stories (The War Z)</td>\n",
       "      <td>PC</td>\n",
       "      <td>October 15, 2012</td>\n",
       "      <td>(Formerly known as \"The War Z\") It has been 5 ...</td>\n",
       "    </tr>\n",
       "    <tr>\n",
       "      <th>18799</th>\n",
       "      <td>Leisure Suit Larry: Box Office Bust</td>\n",
       "      <td>PC</td>\n",
       "      <td>March 31, 2009</td>\n",
       "      <td>The Leisure Suit Larry: Box Office Bust video ...</td>\n",
       "    </tr>\n",
       "  </tbody>\n",
       "</table>\n",
       "<p>18800 rows × 4 columns</p>\n",
       "</div>"
      ],
      "text/plain": [
       "                                             name        platform  \\\n",
       "0            The Legend of Zelda: Ocarina of Time     Nintendo 64   \n",
       "1                        Tony Hawk's Pro Skater 2     PlayStation   \n",
       "2                             Grand Theft Auto IV   PlayStation 3   \n",
       "3                                     SoulCalibur       Dreamcast   \n",
       "4                             Grand Theft Auto IV        Xbox 360   \n",
       "...                                           ...             ...   \n",
       "18795                    Fast & Furious: Showdown        Xbox 360   \n",
       "18796                     Drake of the 99 Dragons            Xbox   \n",
       "18797  Afro Samurai 2: Revenge of Kuma Volume One   PlayStation 4   \n",
       "18798   Infestation: Survivor Stories (The War Z)              PC   \n",
       "18799         Leisure Suit Larry: Box Office Bust              PC   \n",
       "\n",
       "             release_date                                            summary  \n",
       "0       November 23, 1998  As a young boy, Link is tricked by Ganondorf, ...  \n",
       "1      September 20, 2000  As most major publishers' development efforts ...  \n",
       "2          April 29, 2008  [Metacritic's 2008 PS3 Game of the Year; Also ...  \n",
       "3       September 8, 1999  This is a tale of souls and swords, transcendi...  \n",
       "4          April 29, 2008  [Metacritic's 2008 Xbox 360 Game of the Year; ...  \n",
       "...                   ...                                                ...  \n",
       "18795        May 21, 2013  Fast & Furious: Showdown takes some of the fra...  \n",
       "18796    November 3, 2003  Drake is out for revenge in a supernatural Hon...  \n",
       "18797  September 22, 2015  Head out on a journey of redemption, driven by...  \n",
       "18798    October 15, 2012  (Formerly known as \"The War Z\") It has been 5 ...  \n",
       "18799      March 31, 2009  The Leisure Suit Larry: Box Office Bust video ...  \n",
       "\n",
       "[18800 rows x 4 columns]"
      ]
     },
     "execution_count": 9,
     "metadata": {},
     "output_type": "execute_result"
    }
   ],
   "source": [
    "vgr_data.select_dtypes(include='object')"
   ]
  },
  {
   "cell_type": "markdown",
   "metadata": {},
   "source": [
    "Of the 6 columns of data that vgr_data has, 5 columns are categorical features.\n",
    "\n",
    "Are there any problems with these columns? Are all of them unique?\n",
    "\n",
    "* Are the names of the video games ALWAYS unique?\n",
    "* What are the unique consoles? (platform)"
   ]
  },
  {
   "cell_type": "markdown",
   "metadata": {},
   "source": [
    "Why is `user_review` an object and not a float?\n",
    "\n",
    "We need to change that."
   ]
  },
  {
   "cell_type": "markdown",
   "metadata": {},
   "source": [
    "#### 2.3.3.1 Unique `platform` features"
   ]
  },
  {
   "cell_type": "code",
   "execution_count": 10,
   "metadata": {},
   "outputs": [
    {
     "data": {
      "text/plain": [
       " PC                  4864\n",
       " PlayStation 4       2056\n",
       " Xbox 360            1644\n",
       " PlayStation 2       1414\n",
       " Switch              1399\n",
       " PlayStation 3       1256\n",
       " Xbox One            1179\n",
       " Xbox                 789\n",
       " DS                   720\n",
       " Wii                  655\n",
       " PSP                  512\n",
       " GameCube             448\n",
       " Game Boy Advance     438\n",
       " 3DS                  396\n",
       " PlayStation Vita     257\n",
       " PlayStation          187\n",
       " Wii U                184\n",
       " Dreamcast            125\n",
       " PlayStation 5        124\n",
       " Xbox Series X         77\n",
       " Nintendo 64           71\n",
       " Stadia                 5\n",
       "Name: platform, dtype: int64"
      ]
     },
     "execution_count": 10,
     "metadata": {},
     "output_type": "execute_result"
    }
   ],
   "source": [
    "vgr_data['platform'].value_counts()"
   ]
  },
  {
   "cell_type": "markdown",
   "metadata": {},
   "source": [
    "This is very interesting to find that there are only 22 different platforms to play video games on when there are in fact SO MANY MORE.\n",
    "\n",
    "\n",
    "If you look at this [list](https://en.wikipedia.org/wiki/Lists_of_video_game_consoles) of video game consoles (aka `platforms`) you will see an entire range of ways to play. From hand-held consoles to dedicated video game consoles.\n",
    "\n",
    "I don't believe that there should be such a limited range of platforms for this list. This is the top-rated video games from 1995 - 2021 and should include far more."
   ]
  },
  {
   "cell_type": "markdown",
   "metadata": {},
   "source": [
    "## 2.4 Cleaning and Fixing VGR Dataset"
   ]
  },
  {
   "cell_type": "markdown",
   "metadata": {},
   "source": [
    "### 2.4.1 Looking at missing values in 'summary' column"
   ]
  },
  {
   "cell_type": "code",
   "execution_count": 11,
   "metadata": {},
   "outputs": [
    {
     "data": {
      "text/html": [
       "<div>\n",
       "<style scoped>\n",
       "    .dataframe tbody tr th:only-of-type {\n",
       "        vertical-align: middle;\n",
       "    }\n",
       "\n",
       "    .dataframe tbody tr th {\n",
       "        vertical-align: top;\n",
       "    }\n",
       "\n",
       "    .dataframe thead th {\n",
       "        text-align: right;\n",
       "    }\n",
       "</style>\n",
       "<table border=\"1\" class=\"dataframe\">\n",
       "  <thead>\n",
       "    <tr style=\"text-align: right;\">\n",
       "      <th></th>\n",
       "      <th>name</th>\n",
       "      <th>platform</th>\n",
       "      <th>release_date</th>\n",
       "      <th>summary</th>\n",
       "      <th>meta_score</th>\n",
       "      <th>user_review</th>\n",
       "    </tr>\n",
       "  </thead>\n",
       "  <tbody>\n",
       "    <tr>\n",
       "      <th>833</th>\n",
       "      <td>Injustice 2: Legendary Edition</td>\n",
       "      <td>PlayStation 4</td>\n",
       "      <td>March 27, 2018</td>\n",
       "      <td>NaN</td>\n",
       "      <td>88</td>\n",
       "      <td>7.6</td>\n",
       "    </tr>\n",
       "    <tr>\n",
       "      <th>1472</th>\n",
       "      <td>Moto Racer Advance</td>\n",
       "      <td>Game Boy Advance</td>\n",
       "      <td>December 5, 2002</td>\n",
       "      <td>NaN</td>\n",
       "      <td>86</td>\n",
       "      <td>NaN</td>\n",
       "    </tr>\n",
       "    <tr>\n",
       "      <th>1535</th>\n",
       "      <td>Mini Metro</td>\n",
       "      <td>Switch</td>\n",
       "      <td>August 30, 2018</td>\n",
       "      <td>NaN</td>\n",
       "      <td>86</td>\n",
       "      <td>8.4</td>\n",
       "    </tr>\n",
       "    <tr>\n",
       "      <th>1649</th>\n",
       "      <td>Out of the Park Baseball 13</td>\n",
       "      <td>PC</td>\n",
       "      <td>April 9, 2012</td>\n",
       "      <td>NaN</td>\n",
       "      <td>85</td>\n",
       "      <td>7.8</td>\n",
       "    </tr>\n",
       "    <tr>\n",
       "      <th>2427</th>\n",
       "      <td>Guild Wars 2: Path of Fire</td>\n",
       "      <td>PC</td>\n",
       "      <td>September 22, 2017</td>\n",
       "      <td>NaN</td>\n",
       "      <td>83</td>\n",
       "      <td>7.3</td>\n",
       "    </tr>\n",
       "    <tr>\n",
       "      <th>...</th>\n",
       "      <td>...</td>\n",
       "      <td>...</td>\n",
       "      <td>...</td>\n",
       "      <td>...</td>\n",
       "      <td>...</td>\n",
       "      <td>...</td>\n",
       "    </tr>\n",
       "    <tr>\n",
       "      <th>17999</th>\n",
       "      <td>One Piece: Unlimited Cruise SP</td>\n",
       "      <td>PlayStation 4</td>\n",
       "      <td>February 10, 2012</td>\n",
       "      <td>NaN</td>\n",
       "      <td>46</td>\n",
       "      <td>7.0</td>\n",
       "    </tr>\n",
       "    <tr>\n",
       "      <th>18134</th>\n",
       "      <td>AeternoBlade II</td>\n",
       "      <td>Wii U</td>\n",
       "      <td>October 11, 2019</td>\n",
       "      <td>NaN</td>\n",
       "      <td>44</td>\n",
       "      <td>4.4</td>\n",
       "    </tr>\n",
       "    <tr>\n",
       "      <th>18253</th>\n",
       "      <td>Surgeon Simulator: Experience Reality</td>\n",
       "      <td>PlayStation 4</td>\n",
       "      <td>December 3, 2016</td>\n",
       "      <td>NaN</td>\n",
       "      <td>43</td>\n",
       "      <td>4.3</td>\n",
       "    </tr>\n",
       "    <tr>\n",
       "      <th>18532</th>\n",
       "      <td>The Ripping Friends</td>\n",
       "      <td>Game Boy Advance</td>\n",
       "      <td>March 24, 2002</td>\n",
       "      <td>NaN</td>\n",
       "      <td>38</td>\n",
       "      <td>NaN</td>\n",
       "    </tr>\n",
       "    <tr>\n",
       "      <th>18717</th>\n",
       "      <td>Smash 'N' Survive</td>\n",
       "      <td>PlayStation 3</td>\n",
       "      <td>February 22, 2012</td>\n",
       "      <td>NaN</td>\n",
       "      <td>31</td>\n",
       "      <td>NaN</td>\n",
       "    </tr>\n",
       "  </tbody>\n",
       "</table>\n",
       "<p>114 rows × 6 columns</p>\n",
       "</div>"
      ],
      "text/plain": [
       "                                        name           platform  \\\n",
       "833           Injustice 2: Legendary Edition      PlayStation 4   \n",
       "1472                      Moto Racer Advance   Game Boy Advance   \n",
       "1535                              Mini Metro             Switch   \n",
       "1649             Out of the Park Baseball 13                 PC   \n",
       "2427              Guild Wars 2: Path of Fire                 PC   \n",
       "...                                      ...                ...   \n",
       "17999         One Piece: Unlimited Cruise SP      PlayStation 4   \n",
       "18134                        AeternoBlade II              Wii U   \n",
       "18253  Surgeon Simulator: Experience Reality      PlayStation 4   \n",
       "18532                    The Ripping Friends   Game Boy Advance   \n",
       "18717                      Smash 'N' Survive      PlayStation 3   \n",
       "\n",
       "             release_date summary  meta_score  user_review  \n",
       "833        March 27, 2018     NaN          88          7.6  \n",
       "1472     December 5, 2002     NaN          86          NaN  \n",
       "1535      August 30, 2018     NaN          86          8.4  \n",
       "1649        April 9, 2012     NaN          85          7.8  \n",
       "2427   September 22, 2017     NaN          83          7.3  \n",
       "...                   ...     ...         ...          ...  \n",
       "17999   February 10, 2012     NaN          46          7.0  \n",
       "18134    October 11, 2019     NaN          44          4.4  \n",
       "18253    December 3, 2016     NaN          43          4.3  \n",
       "18532      March 24, 2002     NaN          38          NaN  \n",
       "18717   February 22, 2012     NaN          31          NaN  \n",
       "\n",
       "[114 rows x 6 columns]"
      ]
     },
     "execution_count": 11,
     "metadata": {},
     "output_type": "execute_result"
    }
   ],
   "source": [
    "#Need to find the names of the games who have missing values in the summary column\n",
    "\n",
    "vgr_data[vgr_data.summary.isnull()]\n",
    "\n",
    "#leave them in, until you need that summary field."
   ]
  },
  {
   "cell_type": "code",
   "execution_count": 12,
   "metadata": {},
   "outputs": [],
   "source": [
    "#remove 'tbd: under user_reviews"
   ]
  },
  {
   "cell_type": "code",
   "execution_count": 13,
   "metadata": {},
   "outputs": [
    {
     "data": {
      "text/plain": [
       "name               0\n",
       "platform           0\n",
       "release_date       0\n",
       "summary          114\n",
       "meta_score         0\n",
       "user_review     1365\n",
       "dtype: int64"
      ]
     },
     "execution_count": 13,
     "metadata": {},
     "output_type": "execute_result"
    }
   ],
   "source": [
    "vgr_data.isnull().sum()"
   ]
  },
  {
   "cell_type": "code",
   "execution_count": 14,
   "metadata": {},
   "outputs": [],
   "source": [
    "#JEFF NOTES TO DO\n",
    "\n",
    "#data cleaning\n",
    "#replace a value with a NaN, when \n",
    "\n",
    "#change the user_review to numerical value, instead of object.\n",
    "\n",
    "#EDA, do first BEFORE string analysis in 'Summary' section\n",
    "\n",
    "#remove most frequent, english 'STOP' words\n",
    "#text preprocessing\n",
    "#define lists\n",
    "\n",
    "#modeling - do the genre and score prediction"
   ]
  },
  {
   "cell_type": "markdown",
   "metadata": {},
   "source": [
    "### 2.4.2 Change `user_review` to numerical, instead of object."
   ]
  },
  {
   "cell_type": "code",
   "execution_count": 16,
   "metadata": {},
   "outputs": [],
   "source": [
    "vgr_data['user_review'] = pd.to_numeric(vgr_data['user_review'])"
   ]
  },
  {
   "cell_type": "code",
   "execution_count": 17,
   "metadata": {},
   "outputs": [
    {
     "name": "stdout",
     "output_type": "stream",
     "text": [
      "<class 'pandas.core.frame.DataFrame'>\n",
      "RangeIndex: 18800 entries, 0 to 18799\n",
      "Data columns (total 6 columns):\n",
      " #   Column        Non-Null Count  Dtype  \n",
      "---  ------        --------------  -----  \n",
      " 0   name          18800 non-null  object \n",
      " 1   platform      18800 non-null  object \n",
      " 2   release_date  18800 non-null  object \n",
      " 3   summary       18686 non-null  object \n",
      " 4   meta_score    18800 non-null  int64  \n",
      " 5   user_review   17435 non-null  float64\n",
      "dtypes: float64(1), int64(1), object(4)\n",
      "memory usage: 881.4+ KB\n"
     ]
    }
   ],
   "source": [
    "vgr_data.info()"
   ]
  },
  {
   "cell_type": "markdown",
   "metadata": {},
   "source": [
    "## 2.5 EDA on Video Game Reviews"
   ]
  },
  {
   "cell_type": "code",
   "execution_count": 19,
   "metadata": {},
   "outputs": [
    {
     "data": {
      "image/png": "[encoded data removed]",
      "text/plain": [
       "<Figure size 432x288 with 1 Axes>"
      ]
     },
     "metadata": {
      "needs_background": "light"
     },
     "output_type": "display_data"
    }
   ],
   "source": [
    "#still have missing values in `user_review` but lets do some EDA with these values\n",
    "vgr_data.user_review.hist(bins=100)\n",
    "plt.xlabel('User Review')\n",
    "plt.ylabel('Count')\n",
    "plt.title('Distribution of counts of User Reviews')\n",
    "plt.savefig(\"../images/user_reviews_counts_hist.png\");"
   ]
  },
  {
   "cell_type": "markdown",
   "metadata": {},
   "source": [
    "This is an interesting distribution mostly ranges from a score of 6 to a score of 9.\n",
    "\n",
    "Lets look at the meta_score distribution next"
   ]
  },
  {
   "cell_type": "code",
   "execution_count": 20,
   "metadata": {},
   "outputs": [
    {
     "data": {
      "image/png": "[encoded data removed]",
      "text/plain": [
       "<Figure size 432x288 with 1 Axes>"
      ]
     },
     "metadata": {
      "needs_background": "light"
     },
     "output_type": "display_data"
    }
   ],
   "source": [
    "#still have missing values in `user_review` but lets do some EDA with these values\n",
    "vgr_data.meta_score.hist(bins=100)\n",
    "plt.xlabel('Meta Website Game Score')\n",
    "plt.ylabel('Count')\n",
    "plt.title('Distribution of counts of Meta Website Game Scores')\n",
    "plt.savefig(\"../images/meta_score_counts_hist.png\");"
   ]
  },
  {
   "cell_type": "markdown",
   "metadata": {},
   "source": [
    "Looks like the most ditribution is between a score of 50 through a score of 90.\n",
    "\n",
    "I forgot that `meta_score` and `user_review` were based off of DIFFERENT rating systems.\n",
    "\n",
    "We need to look into this further, and see what the website says they rate the games based off of."
   ]
  },
  {
   "cell_type": "code",
   "execution_count": null,
   "metadata": {},
   "outputs": [],
   "source": []
  },
  {
   "cell_type": "code",
   "execution_count": null,
   "metadata": {},
   "outputs": [],
   "source": []
  },
  {
   "cell_type": "code",
   "execution_count": 15,
   "metadata": {},
   "outputs": [],
   "source": [
    "# save the data to a new csv file\n",
    "#vgr_data.to_csv('../data/all_game_data_cleaned.csv', index=False)\n",
    "\n",
    "\n"
   ]
  }
 ],
 "metadata": {
  "kernelspec": {
   "display_name": "Python 3",
   "language": "python",
   "name": "python3"
  },
  "language_info": {
   "codemirror_mode": {
    "name": "ipython",
    "version": 3
   },
   "file_extension": ".py",
   "mimetype": "text/x-python",
   "name": "python",
   "nbconvert_exporter": "python",
   "pygments_lexer": "ipython3",
   "version": "3.7.4"
  },
  "toc": {
   "base_numbering": 1,
   "nav_menu": {},
   "number_sections": true,
   "sideBar": true,
   "skip_h1_title": false,
   "title_cell": "Table of Contents",
   "title_sidebar": "Contents",
   "toc_cell": false,
   "toc_position": {},
   "toc_section_display": true,
   "toc_window_display": true
  },
  "varInspector": {
   "cols": {
    "lenName": 16,
    "lenType": 16,
    "lenVar": 40
   },
   "kernels_config": {
    "python": {
     "delete_cmd_postfix": "",
     "delete_cmd_prefix": "del ",
     "library": "var_list.py",
     "varRefreshCmd": "print(var_dic_list())"
    },
    "r": {
     "delete_cmd_postfix": ") ",
     "delete_cmd_prefix": "rm(",
     "library": "var_list.r",
     "varRefreshCmd": "cat(var_dic_list()) "
    }
   },
   "types_to_exclude": [
    "module",
    "function",
    "builtin_function_or_method",
    "instance",
    "_Feature"
   ],
   "window_display": false
  }
 },
 "nbformat": 4,
 "nbformat_minor": 4
}
